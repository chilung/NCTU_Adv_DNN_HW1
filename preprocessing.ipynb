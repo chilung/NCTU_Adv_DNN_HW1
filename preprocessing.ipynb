{
 "cells": [
  {
   "cell_type": "code",
   "execution_count": 6,
   "metadata": {},
   "outputs": [],
   "source": [
    "import os\n",
    "import re\n",
    "import pandas as pd"
   ]
  },
  {
   "cell_type": "code",
   "execution_count": 7,
   "metadata": {},
   "outputs": [
    {
     "name": "stdout",
     "output_type": "stream",
     "text": [
      "4\n",
      "000004\n"
     ]
    }
   ],
   "source": [
    "a = 4\n",
    "b = \"{:06d}\".format(a)\n",
    "print(a)\n",
    "print(b)"
   ]
  },
  {
   "cell_type": "code",
   "execution_count": 8,
   "metadata": {},
   "outputs": [
    {
     "name": "stdout",
     "output_type": "stream",
     "text": [
      "0\n",
      "<torch.cuda.device object at 0x7ff7656faa00>\n",
      "1\n",
      "GeForce GTX 1080\n",
      "True\n"
     ]
    }
   ],
   "source": [
    "import torch\n",
    "print(torch.cuda.current_device())\n",
    "print(torch.cuda.device(0))\n",
    "print(torch.cuda.device_count())\n",
    "print(torch.cuda.get_device_name(0))\n",
    "print(torch.cuda.is_available())\n"
   ]
  },
  {
   "cell_type": "code",
   "execution_count": 9,
   "metadata": {},
   "outputs": [],
   "source": [
    "root_path = './cs-t0828-2020-hw1'\n",
    "train_src = 'training_data/training_data'\n",
    "test_src = 'testing_data/testing_data'\n"
   ]
  },
  {
   "cell_type": "code",
   "execution_count": 10,
   "metadata": {},
   "outputs": [
    {
     "name": "stdout",
     "output_type": "stream",
     "text": [
      "./cs-t0828-2020-hw1/training_data/training_data\n",
      "11185\n",
      "      Image ID Image File Name\n",
      "0       000001      000001.jpg\n",
      "1       000002      000002.jpg\n",
      "2       000003      000003.jpg\n",
      "3       000007      000007.jpg\n",
      "4       000009      000009.jpg\n",
      "...        ...             ...\n",
      "11180   016179      016179.jpg\n",
      "11181   016182      016182.jpg\n",
      "11182   016183      016183.jpg\n",
      "11183   016184      016184.jpg\n",
      "11184   016185      016185.jpg\n",
      "\n",
      "[11185 rows x 2 columns]\n"
     ]
    }
   ],
   "source": [
    "print(os.path.join(root_path, train_src))\n",
    "\n",
    "img_fn_list = os.listdir(os.path.join(root_path, train_src))\n",
    "print(len(img_fn_list))\n",
    "#print(img_fn_list)\n",
    "\n",
    "images = [[re.split(\".jpg\", img_fn)[0], img_fn] for img_fn in img_fn_list]\n",
    "images.sort()\n",
    "#print(images)\n",
    "\n",
    "dfObj = pd.DataFrame(images, columns=['Image ID', 'Image File Name'])\n",
    "print(dfObj)\n",
    "dfObj.to_csv(os.path.join(root_path, 'images.csv'), index = False)\n"
   ]
  },
  {
   "cell_type": "code",
   "execution_count": 11,
   "metadata": {},
   "outputs": [
    {
     "name": "stdout",
     "output_type": "stream",
     "text": [
      "./cs-t0828-2020-hw1/testing_data/testing_data\n",
      "5000\n",
      "     Image ID Image File Name\n",
      "0      000004      000004.jpg\n",
      "1      000005      000005.jpg\n",
      "2      000006      000006.jpg\n",
      "3      000008      000008.jpg\n",
      "4      000019      000019.jpg\n",
      "...       ...             ...\n",
      "4995   016172      016172.jpg\n",
      "4996   016175      016175.jpg\n",
      "4997   016176      016176.jpg\n",
      "4998   016180      016180.jpg\n",
      "4999   016181      016181.jpg\n",
      "\n",
      "[5000 rows x 2 columns]\n",
      "     Image ID  Class ID\n",
      "0      000004         0\n",
      "1      000005         0\n",
      "2      000006         0\n",
      "3      000008         0\n",
      "4      000019         0\n",
      "...       ...       ...\n",
      "4995   016172         0\n",
      "4996   016175         0\n",
      "4997   016176         0\n",
      "4998   016180         0\n",
      "4999   016181         0\n",
      "\n",
      "[5000 rows x 2 columns]\n"
     ]
    }
   ],
   "source": [
    "print(os.path.join(root_path, test_src))\n",
    "\n",
    "img_fn_list = os.listdir(os.path.join(root_path, test_src))\n",
    "print(len(img_fn_list))\n",
    "#print(img_fn_list)\n",
    "\n",
    "images = [[re.split(\".jpg\", img_fn)[0], img_fn] for img_fn in img_fn_list]\n",
    "images.sort()\n",
    "#print(images)\n",
    "\n",
    "dfObj = pd.DataFrame(images, columns=['Image ID', 'Image File Name'])\n",
    "print(dfObj)\n",
    "dfObj.to_csv(os.path.join(root_path, 'test_images.csv'), index = False)\n",
    "\n",
    "image_class_labels = [[img_idx, 0] for img_idx, _ in images]\n",
    "#print(image_class_labels)\n",
    "\n",
    "dfObj = pd.DataFrame(image_class_labels, columns=['Image ID', 'Class ID'])\n",
    "print(dfObj)\n",
    "dfObj.to_csv(os.path.join(root_path, 'test_image_class_labels.csv'), index = False)\n"
   ]
  },
  {
   "cell_type": "code",
   "execution_count": 12,
   "metadata": {},
   "outputs": [
    {
     "name": "stdout",
     "output_type": "stream",
     "text": [
      "          id                                label\n",
      "0       9350          Ford F-150 Regular Cab 2007\n",
      "1       2645                      BMW X6 SUV 2012\n",
      "2       2267              BMW 1 Series Coupe 2012\n",
      "3       8553              Fisker Karma Sedan 2012\n",
      "4       6990  Dodge Ram Pickup 3500 Crew Cab 2010\n",
      "...      ...                                  ...\n",
      "11180    184                  Acura TL Sedan 2012\n",
      "11181   5863          Chevrolet Malibu Sedan 2007\n",
      "11182   2482        BMW 6 Series Convertible 2007\n",
      "11183  14926            Suzuki Kizashi Sedan 2012\n",
      "11184   2927              BMW M6 Convertible 2010\n",
      "\n",
      "[11185 rows x 2 columns]\n"
     ]
    }
   ],
   "source": [
    "training_labels_csv_filename = 'training_labels.csv'\n",
    "training_labels_pd = pd.read_csv(os.path.join(root_path, training_labels_csv_filename))\n",
    "print(training_labels_pd)\n",
    "mycar = training_labels_pd.values.tolist()\n",
    "mycar.sort()\n",
    "#print(mycar)"
   ]
  },
  {
   "cell_type": "code",
   "execution_count": 13,
   "metadata": {},
   "outputs": [
    {
     "name": "stdout",
     "output_type": "stream",
     "text": [
      "196\n"
     ]
    }
   ],
   "source": [
    "brands = list(set([img_brand for img_idx, img_brand in mycar]))\n",
    "brands.sort()\n",
    "print(len(brands))\n",
    "#print(brands)\n"
   ]
  },
  {
   "cell_type": "code",
   "execution_count": 14,
   "metadata": {},
   "outputs": [
    {
     "name": "stdout",
     "output_type": "stream",
     "text": [
      "196\n"
     ]
    }
   ],
   "source": [
    "class_label = [[idx, brand] for idx, brand in enumerate(brands)]\n",
    "print(len(class_label))\n",
    "#print(class_label)\n"
   ]
  },
  {
   "cell_type": "code",
   "execution_count": 15,
   "metadata": {},
   "outputs": [
    {
     "name": "stdout",
     "output_type": "stream",
     "text": [
      "     Class ID                       Car Brand\n",
      "0           0      AM General Hummer SUV 2000\n",
      "1           1       Acura Integra Type R 2001\n",
      "2           2             Acura RL Sedan 2012\n",
      "3           3             Acura TL Sedan 2012\n",
      "4           4            Acura TL Type-S 2008\n",
      "..        ...                             ...\n",
      "191       191  Volkswagen Golf Hatchback 2012\n",
      "192       192            Volvo 240 Sedan 1993\n",
      "193       193        Volvo C30 Hatchback 2012\n",
      "194       194             Volvo XC90 SUV 2007\n",
      "195       195   smart fortwo Convertible 2012\n",
      "\n",
      "[196 rows x 2 columns]\n"
     ]
    }
   ],
   "source": [
    "dfObj = pd.DataFrame(class_label, columns=['Class ID', 'Car Brand'])\n",
    "print(dfObj)\n",
    "dfObj.to_csv(os.path.join(root_path, 'class.csv'), index = False)\n"
   ]
  },
  {
   "cell_type": "code",
   "execution_count": 16,
   "metadata": {},
   "outputs": [],
   "source": [
    "from collections import OrderedDict \n",
    "\n",
    "name_to_id = {} \n",
    "for idx, brand in class_label:\n",
    "    name_to_id[brand] = idx\n",
    "#print(name_to_id)\n",
    "\n",
    "id_to_name = {} \n",
    "for idx, brand in class_label:\n",
    "    id_to_name[idx] = brand\n",
    "#print(id_to_name)\n"
   ]
  },
  {
   "cell_type": "code",
   "execution_count": 17,
   "metadata": {},
   "outputs": [
    {
     "name": "stdout",
     "output_type": "stream",
     "text": [
      "       Image ID  Class ID\n",
      "0             1         0\n",
      "1             2         0\n",
      "2             3         0\n",
      "3             7         0\n",
      "4             9         0\n",
      "...         ...       ...\n",
      "11180     16179       195\n",
      "11181     16182       195\n",
      "11182     16183       195\n",
      "11183     16184       195\n",
      "11184     16185       195\n",
      "\n",
      "[11185 rows x 2 columns]\n"
     ]
    }
   ],
   "source": [
    "image_class_labels = [[img_idx, name_to_id[img_brand]] for img_idx, img_brand in mycar]\n",
    "#print(image_class_labels)\n",
    "\n",
    "dfObj = pd.DataFrame(image_class_labels, columns=['Image ID', 'Class ID'])\n",
    "print(dfObj)\n",
    "dfObj.to_csv(os.path.join(root_path, 'image_class_labels.csv'), index = False)\n"
   ]
  },
  {
   "cell_type": "code",
   "execution_count": 18,
   "metadata": {},
   "outputs": [
    {
     "name": "stdout",
     "output_type": "stream",
     "text": [
      "       Image ID  Train Test Split\n",
      "0             1                 1\n",
      "1             2                 1\n",
      "2             3                 1\n",
      "3             7                 0\n",
      "4             9                 1\n",
      "...         ...               ...\n",
      "11180     16179                 1\n",
      "11181     16182                 1\n",
      "11182     16183                 1\n",
      "11183     16184                 0\n",
      "11184     16185                 1\n",
      "\n",
      "[11185 rows x 2 columns]\n"
     ]
    }
   ],
   "source": [
    "train_test_split = []\n",
    "split = 1\n",
    "for idx, class_label in image_class_labels:\n",
    "    train_test_split.append([idx, 1 if (split%4) else 0])\n",
    "    split += 1\n",
    "#print(train_test_split)\n",
    "\n",
    "dfObj = pd.DataFrame(train_test_split, columns=['Image ID', 'Train Test Split'])\n",
    "print(dfObj)\n",
    "dfObj.to_csv(os.path.join(root_path, 'train_test_split.csv'), index = False)"
   ]
  },
  {
   "cell_type": "code",
   "execution_count": 19,
   "metadata": {},
   "outputs": [
    {
     "name": "stdout",
     "output_type": "stream",
     "text": [
      "<class 'list'>\n",
      "['0.006', '0.010', '0.012', '0.012', '0.028', '0.039', '0.062', '0.072', '0.119', '0.130', '0.205', '0.327', '0.282', '0.335', '0.370', '0.622', '0.615', '0.545', '0.659', '0.659', '0.599', '0.770', '0.675', '0.776', '0.787', '0.696', '0.825', '0.825', '0.835', '0.823', '0.828', '0.880', '0.842', '0.919', '0.915', '0.948', '0.853', '0.868', '0.935', '0.935', '0.902', '0.934', '0.918', '0.914', '0.958', '0.918', '0.860', '0.904', '0.939', '0.926', '0.952', '0.951', '0.950', '0.927', '0.952', '0.935', '0.962', '0.943', '0.905', '0.966', '0.978', '0.979', '0.979', '0.968', '0.978', '0.970', '0.967', '0.982', '0.983', '0.984', '0.979', '0.981', '0.984', '0.980', '0.981', '0.967', '0.971', '0.984', '0.980', '0.972', '0.979', '0.972', '0.985', '0.972', '0.986', '0.972', '0.985', '0.984', '0.975', '0.984', '0.972', '0.977', '0.990', '0.973', '0.977', '0.985', '0.982', '0.977', '0.973', '0.984', '0.976', '0.966', '0.966', '0.978', '0.970']\n",
      "['0.008', '0.012', '0.013', '0.009', '0.020', '0.034', '0.063', '0.061', '0.097', '0.118', '0.177', '0.292', '0.239', '0.275', '0.293', '0.533', '0.509', '0.463', '0.551', '0.543', '0.478', '0.641', '0.550', '0.638', '0.643', '0.546', '0.665', '0.669', '0.670', '0.652', '0.667', '0.730', '0.685', '0.762', '0.753', '0.799', '0.676', '0.692', '0.767', '0.769', '0.729', '0.756', '0.746', '0.740', '0.797', '0.737', '0.686', '0.736', '0.781', '0.753', '0.777', '0.798', '0.784', '0.774', '0.786', '0.762', '0.808', '0.770', '0.740', '0.815', '0.834', '0.834', '0.833', '0.817', '0.836', '0.816', '0.806', '0.832', '0.836', '0.847', '0.833', '0.838', '0.843', '0.834', '0.828', '0.820', '0.806', '0.831', '0.834', '0.821', '0.825', '0.824', '0.842', '0.818', '0.836', '0.822', '0.839', '0.833', '0.814', '0.853', '0.819', '0.816', '0.851', '0.818', '0.838', '0.838', '0.840', '0.822', '0.819', '0.839', '0.830', '0.808', '0.811', '0.825', '0.823']\n"
     ]
    }
   ],
   "source": [
    "import re\n",
    "f = open(\"./models/20201026_002501/train_test.log\")\n",
    "lines = f.readlines()\n",
    "print(type(lines))\n",
    "\n",
    "train_acc= []\n",
    "test_acc= []\n",
    "for line in lines:\n",
    "    #print(line)\n",
    "    matchObj = re.match(r'epoch:(\\d+) - train loss: (\\d+.\\d+) and train acc: (\\d+.\\d+) total sample: (\\d+)', line)\n",
    "    if matchObj:\n",
    "        #print('{}\\n{}\\n{}\\n{}\\n{}\\n'.format(matchObj.group(0), matchObj.group(1), matchObj.group(2), matchObj.group(3), matchObj.group(4)))\n",
    "        train_acc.append(matchObj.group(3))\n",
    "    matchObj = re.match(r'epoch:(\\d+) - test loss: (\\d+.\\d+) and test acc: (\\d+.\\d+) total sample: (\\d+)', line)\n",
    "    if matchObj:\n",
    "        #print('{}\\n{}\\n{}\\n{}\\n{}\\n'.format(matchObj.group(0), matchObj.group(1), matchObj.group(2), matchObj.group(3), matchObj.group(4)))\n",
    "        test_acc.append(matchObj.group(3))\n",
    "print(train_acc)\n",
    "print(test_acc)\n",
    "f.close()"
   ]
  },
  {
   "cell_type": "code",
   "execution_count": 20,
   "metadata": {},
   "outputs": [
    {
     "name": "stdout",
     "output_type": "stream",
     "text": [
      "92\n",
      "0.853\n"
     ]
    }
   ],
   "source": [
    "import numpy as np\n",
    "\n",
    "print(np.argmax(train_acc))\n",
    "print(test_acc[np.argmax(test_acc)])"
   ]
  },
  {
   "cell_type": "code",
   "execution_count": null,
   "metadata": {},
   "outputs": [],
   "source": []
  },
  {
   "cell_type": "code",
   "execution_count": null,
   "metadata": {},
   "outputs": [],
   "source": []
  },
  {
   "cell_type": "code",
   "execution_count": null,
   "metadata": {},
   "outputs": [],
   "source": []
  },
  {
   "cell_type": "code",
   "execution_count": 100,
   "metadata": {},
   "outputs": [],
   "source": [
    "img_pd = pd.read_csv(os.path.join(root_path, 'images.csv'))\n",
    "label_pd = pd.read_csv(os.path.join(root_path, 'image_class_labels.csv'))\n",
    "train_test_pd = pd.read_csv(os.path.join(root_path, 'train_test_split.csv'))\n",
    "\n",
    "img_name_list = [img_fn for _, img_fn in img_pd.values.tolist()]\n",
    "#print(img_name_list)\n",
    "label_list = [label for _, label in label_pd.values.tolist()]\n",
    "#print(label_list)\n",
    "train_test_list = [split for _, split in train_test_pd.values.tolist()]\n",
    "#print(train_test_list)\n",
    "\n",
    "train_file_list = [x for i, x in zip(train_test_list, img_name_list) if i]\n",
    "test_file_list = [x for i, x in zip(train_test_list, img_name_list) if not i]\n",
    "#print(train_file_list)\n",
    "#print(test_file_list)"
   ]
  },
  {
   "cell_type": "code",
   "execution_count": 94,
   "metadata": {},
   "outputs": [],
   "source": [
    "\n",
    "img_txt_file = open(os.path.join(root_path, 'images.txt'))\n",
    "label_txt_file = open(os.path.join(root_path, 'image_class_labels.txt'))\n",
    "train_val_file = open(os.path.join(root_path, 'train_test_split.txt'))"
   ]
  },
  {
   "cell_type": "code",
   "execution_count": 95,
   "metadata": {},
   "outputs": [],
   "source": [
    "img_name_list = []\n",
    "for line in img_txt_file:\n",
    "    img_name_list.append(line[:-1].split(' ')[-1])\n",
    "#print(img_name_list)"
   ]
  },
  {
   "cell_type": "code",
   "execution_count": 96,
   "metadata": {},
   "outputs": [],
   "source": [
    "label_list = []\n",
    "for line in label_txt_file:\n",
    "    label_list.append(int(line[:-1].split(' ')[-1]) - 1)\n",
    "#print(label_list) "
   ]
  },
  {
   "cell_type": "code",
   "execution_count": 97,
   "metadata": {},
   "outputs": [],
   "source": [
    "train_test_list = []\n",
    "for line in train_val_file:\n",
    "    train_test_list.append(int(line[:-1].split(' ')[-1]))\n",
    "#print(train_test_list)"
   ]
  },
  {
   "cell_type": "code",
   "execution_count": 101,
   "metadata": {},
   "outputs": [],
   "source": [
    "\n",
    "train_file_list = [x for i, x in zip(train_test_list, img_name_list) if i]\n",
    "test_file_list = [x for i, x in zip(train_test_list, img_name_list) if not i]\n",
    "#print(train_file_list)\n",
    "#print(test_file_list)\n"
   ]
  },
  {
   "cell_type": "code",
   "execution_count": null,
   "metadata": {},
   "outputs": [],
   "source": [
    "if self.is_train:\n",
    "    self.train_img = [imageio.imread(os.path.join(self.root, 'images', train_file)) for train_file in\n",
    "                        train_file_list[:data_len]]\n",
    "    self.train_label = [x for i, x in zip(train_test_list, label_list) if i][:data_len]\n",
    "if not self.is_train:\n",
    "    self.test_img = [imageio.imread(os.path.join(self.root, 'images', test_file)) for test_file in\n",
    "                        test_file_list[:data_len]]\n",
    "    self.test_label = [x for i, x in zip(train_test_list, label_list) if not i][:data_len]"
   ]
  }
 ],
 "metadata": {
  "kernelspec": {
   "display_name": "Python 3",
   "language": "python",
   "name": "python3"
  },
  "language_info": {
   "codemirror_mode": {
    "name": "ipython",
    "version": 3
   },
   "file_extension": ".py",
   "mimetype": "text/x-python",
   "name": "python",
   "nbconvert_exporter": "python",
   "pygments_lexer": "ipython3",
   "version": "3.8.5"
  }
 },
 "nbformat": 4,
 "nbformat_minor": 4
}
